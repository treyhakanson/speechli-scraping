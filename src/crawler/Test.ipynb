{
 "cells": [
  {
   "cell_type": "code",
   "execution_count": 1,
   "metadata": {},
   "outputs": [],
   "source": [
    "import csv\n",
    "from constants import DATA_DIR\n",
    "from crawlable import Crawlable\n",
    "import requests\n",
    "from bs4 import BeautifulSoup"
   ]
  },
  {
   "cell_type": "code",
   "execution_count": 3,
   "metadata": {},
   "outputs": [
    {
     "name": "stdout",
     "output_type": "stream",
     "text": [
      "['quotes/BarackObama/BarackObama.json', 'https://www.goodreads.com/quotes/search?commit=Search&page=1&q=Barack+Obama&utf8=%E2%9C%93', '']\n",
      "['quotes/MahatmaGandhi/MahatmaGandhi.json', 'https://www.goodreads.com/quotes/search?commit=Search&page=1&q=Mahatma+Gandhi+&utf8=%E2%9C%93', '']\n"
     ]
    }
   ],
   "source": [
    "BASE_DIR = DATA_DIR.joinpath(\"goodreads\")\n",
    "BASE_URLS = [[\"quotes/BarackObama/BarackObama.json\", \"https://www.goodreads.com/quotes/search?commit=Search&page=1&q=Barack+Obama&utf8=%E2%9C%93\"],\n",
    "[\"quotes/MahatmaGandhi/MahatmaGandhi.json\", \"https://www.goodreads.com/quotes/search?commit=Search&page=1&q=Mahatma+Gandhi+&utf8=%E2%9C%93\"]]\n",
    "\n",
    "def setup():\n",
    "    \"\"\"Setup links for crawling Project GoodReads.\"\"\"\n",
    "    for item in BASE_URLS:\n",
    "        item.append(\"\")\n",
    "    \n",
    "    for item in BASE_URLS:\n",
    "            print (item)\n",
    "            \n",
    "setup()           "
   ]
  },
  {
   "cell_type": "code",
   "execution_count": null,
   "metadata": {},
   "outputs": [],
   "source": [
    "def setup():\n",
    "    \"\"\"Setup the directories for crawling Project GoodReads.\"\"\"\n",
    "    if not BASE_DIR.exists():\n",
    "        BASE_DIR.mkdir(parents=True)\n",
    "\n",
    "def write(fpath, data):\n",
    "    \"\"\"Write data to a csv.\"\"\"\n",
    "    with fpath.open(mode=\"w\") as csvfile:        \n",
    "        for element in data:\n",
    "            csvfile.write(str(element).strip('\\\"') + \"\\n\")\n"
   ]
  },
  {
   "cell_type": "code",
   "execution_count": null,
   "metadata": {},
   "outputs": [],
   "source": [
    "def retrieve():\n",
    "    \"\"\"Retrieve the genius indexes.\"\"\"\n",
    "    setup()\n",
    "    for loc, url in BASE_URLS:\n",
    "        fpath = BASE_DIR.joinpath(loc)\n",
    "        if not fpath.parent.exists():\n",
    "            fpath.parent.mkdir(parents=True)\n",
    "        crawlable = Crawlable(url)\n",
    "        crawlable.retrieve()\n",
    "        tags = crawlable._soup.find_all(attrs={\"class\":\"quoteText\"})\n",
    "        final = []\n",
    "        for tag in tags:\n",
    "            array = tag.text.split(\"\\n\")\n",
    "            for string in array: \n",
    "                if (len(string) > 5 and not tag.script): final.append(string)\n",
    "        final = final[::2]\n",
    "        #for text in final: print (final, \"\\n\")\n",
    "        write(fpath, final)"
   ]
  },
  {
   "cell_type": "code",
   "execution_count": null,
   "metadata": {},
   "outputs": [],
   "source": [
    "retrieve()"
   ]
  }
 ],
 "metadata": {
  "kernelspec": {
   "display_name": "Python 3",
   "language": "python",
   "name": "python3"
  },
  "language_info": {
   "codemirror_mode": {
    "name": "ipython",
    "version": 3
   },
   "file_extension": ".py",
   "mimetype": "text/x-python",
   "name": "python",
   "nbconvert_exporter": "python",
   "pygments_lexer": "ipython3",
   "version": "3.7.1"
  }
 },
 "nbformat": 4,
 "nbformat_minor": 2
}
